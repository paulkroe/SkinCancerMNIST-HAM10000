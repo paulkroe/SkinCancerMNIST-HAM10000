{
 "cells": [
  {
   "attachments": {},
   "cell_type": "markdown",
   "metadata": {},
   "source": [
    "Create csv-file holing lesion name and according label."
   ]
  },
  {
   "cell_type": "code",
   "execution_count": 1,
   "metadata": {},
   "outputs": [],
   "source": [
    "import pandas as pd\n",
    "file_path = \"Data/HAM10000_metadata.csv\"\n",
    "df = pd.read_csv(file_path)\n",
    "\n",
    "# need to manually remove colum names\n",
    "label = df[[\"image_id\", \"dx\"]]\n",
    "\n",
    "label.to_csv(\"Data/HAM10000_labels.csv\", index=False)"
   ]
  },
  {
   "cell_type": "code",
   "execution_count": 2,
   "metadata": {},
   "outputs": [
    {
     "name": "stdout",
     "output_type": "stream",
     "text": [
      "nv       6705\n",
      "mel      1113\n",
      "bkl      1099\n",
      "bcc       514\n",
      "akiec     327\n",
      "vasc      142\n",
      "df        115\n",
      "Name: dx, dtype: int64\n"
     ]
    }
   ],
   "source": [
    "import pandas as pd\n",
    "file_path = \"Data/HAM10000_metadata.csv\"\n",
    "df = pd.read_csv(file_path)\n",
    "\n",
    "print(df['dx'].value_counts())"
   ]
  },
  {
   "cell_type": "code",
   "execution_count": 16,
   "metadata": {},
   "outputs": [],
   "source": [
    "! cd Data/HAM100000_images_test && mkdir nv && mkdir mel && mkdir bcc && mkdir bkl && mkdir akiec && mkdir vasc && mkdir df"
   ]
  },
  {
   "cell_type": "code",
   "execution_count": 17,
   "metadata": {},
   "outputs": [],
   "source": [
    "! cd Data/HAM100000_images_train && mkdir nv && mkdir mel && mkdir bcc && mkdir bkl && mkdir akiec && mkdir vasc && mkdir df"
   ]
  },
  {
   "cell_type": "code",
   "execution_count": 42,
   "metadata": {},
   "outputs": [],
   "source": [
    "# put images in correct class folders\n",
    "import csv\n",
    "import shutil\n",
    "import os\n",
    "labels =[]\n",
    "with open('Data/HAM10000_labels.csv') as file:\n",
    "    csv_reader = csv.reader(file)\n",
    "    for row in csv_reader:\n",
    "        labels.append(row)\n",
    "\n",
    "file_list = os.listdir('Data/HAM100000_images_train')\n",
    "for file in file_list:\n",
    "    if os.path.isfile(os.path.join('Data/HAM100000_images_train', file)):\n",
    "        for (image,label) in labels:\n",
    "            if (image+'.jpg') == file:\n",
    "                shutil.move(os.path.join('Data/HAM100000_images_train', file), os.path.join('Data/HAM100000_images_train', label))\n",
    "                break\n",
    "\n",
    "file_list = os.listdir('Data/HAM100000_images_test')\n",
    "for file in file_list:\n",
    "    if os.path.isfile(os.path.join('Data/HAM100000_images_test', file)):\n",
    "        for (image,label) in labels:\n",
    "            if (image+'.jpg') == file:\n",
    "                shutil.move(os.path.join('Data/HAM100000_images_test', file), os.path.join('Data/HAM100000_images_test', label))\n",
    "                break\n",
    "\n"
   ]
  }
 ],
 "metadata": {
  "kernelspec": {
   "display_name": "env",
   "language": "python",
   "name": "python3"
  },
  "language_info": {
   "codemirror_mode": {
    "name": "ipython",
    "version": 3
   },
   "file_extension": ".py",
   "mimetype": "text/x-python",
   "name": "python",
   "nbconvert_exporter": "python",
   "pygments_lexer": "ipython3",
   "version": "3.7.13"
  },
  "orig_nbformat": 4
 },
 "nbformat": 4,
 "nbformat_minor": 2
}
